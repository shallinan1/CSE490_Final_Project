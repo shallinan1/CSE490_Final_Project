{
  "nbformat": 4,
  "nbformat_minor": 0,
  "metadata": {
    "colab": {
      "name": "CSE490_final_lab.ipynb",
      "provenance": [],
      "collapsed_sections": []
    },
    "kernelspec": {
      "name": "python3",
      "display_name": "Python 3"
    },
    "accelerator": "GPU"
  },
  "cells": [
    {
      "cell_type": "code",
      "metadata": {
        "id": "6fHzZXukZ_SG",
        "colab": {
          "base_uri": "https://localhost:8080/"
        },
        "outputId": "f739b0f5-fadd-4415-cba4-b0b8d14f4e41"
      },
      "source": [
        "import pandas as pd\r\n",
        "import numpy as np\r\n",
        "import torch\r\n",
        "import torch.optim as optim\r\n",
        "import torch.nn as nn\r\n",
        "import torch.nn.functional as F\r\n",
        "\r\n",
        "import nltk\r\n",
        "from nltk.stem import PorterStemmer\r\n",
        "\r\n",
        "from sklearn.feature_extraction.text import TfidfVectorizer\r\n",
        "\r\n",
        "from sklearn.model_selection import train_test_split\r\n",
        "\r\n",
        "data = pd.read_csv(\"/content/Sentiment_Scores.csv\")\r\n",
        "\r\n",
        "print(data[data.Rating == 0].count()/len(data))\r\n",
        "print(data[data.Rating == 1].count()/len(data))\r\n",
        "print(data[data.Rating == 2].count()/len(data))\r\n",
        "print(data[data.Rating == 3].count()/len(data))\r\n",
        "\r\n"
      ],
      "execution_count": 2,
      "outputs": [
        {
          "output_type": "stream",
          "text": [
            "Text      0.17931\n",
            "Rating    0.17931\n",
            "dtype: float64\n",
            "Text      0.310345\n",
            "Rating    0.310345\n",
            "dtype: float64\n",
            "Text      0.324138\n",
            "Rating    0.324138\n",
            "dtype: float64\n",
            "Text      0.186207\n",
            "Rating    0.186207\n",
            "dtype: float64\n"
          ],
          "name": "stdout"
        }
      ]
    },
    {
      "cell_type": "code",
      "metadata": {
        "id": "MKw-V-8gddaz"
      },
      "source": [
        "# Convert to characters (numbers)\r\n",
        "# Output is a list of lists of embeddings\r\n",
        "def character_encode(allData):\r\n",
        "\r\n",
        "    voc2ind = {}\r\n",
        "    output = []\r\n",
        "    maxKey = 0\r\n",
        "    for data in allData:\r\n",
        "      # Remove multiple whitespaces\r\n",
        "      data = ' '.join(data.split())\r\n",
        "     \r\n",
        "      newData = np.zeros(len(data), dtype = int);\r\n",
        "      idx = 0\r\n",
        "      # print(len(data))\r\n",
        "\r\n",
        "      # Compute voc2ind and transform the data into an integer representation of the tokens.\r\n",
        "      for char in data:\r\n",
        "        if char not in voc2ind:\r\n",
        "          voc2ind[char] = maxKey\r\n",
        "          maxKey += 1  \r\n",
        "        newData[idx] = voc2ind[char]\r\n",
        "        idx += 1\r\n",
        "\r\n",
        "      output.append(newData)\r\n",
        "\r\n",
        "    ind2voc = {val: key for key, val in voc2ind.items()}\r\n",
        "    # print(len(ind2voc))\r\n",
        "    return output, ind2voc, voc2ind\r\n",
        "output, ind2voc, voc2ind = character_encode(data.Text.to_list())"
      ],
      "execution_count": 3,
      "outputs": []
    },
    {
      "cell_type": "code",
      "metadata": {
        "id": "sygYhfcTH_9G"
      },
      "source": [
        "# Run this for standard padding data in our vector\r\n",
        "pad_value = -1;\r\n",
        "max_seq_len = max([len(seq) for seq in output])\r\n",
        "padded_seqs = np.full((len(output), max_seq_len, 1), fill_value = pad_value)\r\n",
        "for s, x in enumerate(output):\r\n",
        "  seq_len = x.shape[0]\r\n",
        "  padded_seqs[s, 0:seq_len, :] = np.expand_dims(x, axis=1)\r\n"
      ],
      "execution_count": 4,
      "outputs": []
    },
    {
      "cell_type": "code",
      "metadata": {
        "id": "rieanrI35csN"
      },
      "source": [
        "# If we want to pad to a specific sequence length\r\n",
        "pad_value = -1\r\n",
        "from keras.preprocessing.sequence import pad_sequences\r\n",
        "max_seq_len = 1000\r\n",
        "padded_seqs = pad_sequences(output, value = pad_value, maxlen = max_seq_len)"
      ],
      "execution_count": null,
      "outputs": []
    },
    {
      "cell_type": "code",
      "metadata": {
        "id": "zD6XrEFmPQYB"
      },
      "source": [
        "# Run this if we want to increase our data by sampling more (subsampling)\r\n",
        "import random\r\n",
        "\r\n",
        "def subsample(x, y, length, n):\r\n",
        "  newx = []\r\n",
        "  newy = []\r\n",
        "\r\n",
        "  for _ in range(n):\r\n",
        "    for curX in x:\r\n",
        "      maxVal = curX.shape[0] - length\r\n",
        "      start = random.randint(0, maxVal)\r\n",
        "      newx.append(curX[start:start+length])\r\n",
        "    for curY in y:\r\n",
        "      newy.append(curY)\r\n",
        "\r\n",
        "  return np.array(newx), np.array(newy)\r\n",
        "\r\n",
        "maxlen = 100\r\n",
        "samps = 10\r\n",
        "newx, newy = subsample(output, data.Rating.to_list(), maxlen, samps)\r\n",
        "len(newy)\r\n",
        "\r\n",
        "from sklearn.model_selection import train_test_split\r\n",
        "X_train, X_test, y_train, y_test = train_test_split(newx, newy, shuffle = True, train_size = 0.8)\r\n",
        "X_train = np.array(X_train)\r\n",
        "X_test = np.array(X_test)\r\n",
        "y_train = to_categorical(np.array(y_train))\r\n",
        "y_test = to_categorical(np.array(y_test))\r\n"
      ],
      "execution_count": null,
      "outputs": []
    },
    {
      "cell_type": "code",
      "metadata": {
        "id": "DOnomWYMH57O"
      },
      "source": [
        "import math\r\n",
        "import numpy\r\n",
        "import matplotlib.pyplot as plt\r\n",
        "from pandas import read_csv\r\n",
        "from keras.models import Sequential\r\n",
        "from keras.layers import Dense\r\n",
        "from keras.layers import Masking\r\n",
        "from keras.layers import LSTM\r\n",
        "from keras.layers import Dropout\r\n",
        "from keras.layers import Bidirectional\r\n",
        "from keras.optimizers import Adam\r\n",
        "from keras.layers import Activation\r\n",
        "from sklearn.preprocessing import MinMaxScaler\r\n",
        "from sklearn.metrics import mean_squared_error\r\n",
        "from keras.utils import to_categorical"
      ],
      "execution_count": 5,
      "outputs": []
    },
    {
      "cell_type": "code",
      "metadata": {
        "id": "rCwjTQcSEf6T"
      },
      "source": [
        "# Partition our data into train and test sets\r\n",
        "from sklearn.model_selection import train_test_split\r\n",
        "X_train, X_test, y_train, y_test = train_test_split(padded_seqs, data.Rating.to_list(), shuffle = True)\r\n",
        "\r\n",
        "X_train = np.array(X_train)\r\n",
        "X_test = np.array(X_test)\r\n",
        "\r\n",
        "# Uncomment this and comment the other y_train y_test out if we want to:\r\n",
        "# Convert our ys to be binary: 0 is negative, 1 is positive\r\n",
        "# y_train = to_categorical(np.where(np.array(y_train) > 1.1, 0, 1))\r\n",
        "# y_test = to_categorical(np.where(np.array(y_test) > 1.1, 0, 1))\r\n",
        "\r\n",
        "y_train = to_categorical(np.array(y_train))\r\n",
        "y_test = to_categorical(np.array(y_test))"
      ],
      "execution_count": 6,
      "outputs": []
    },
    {
      "cell_type": "code",
      "metadata": {
        "colab": {
          "base_uri": "https://localhost:8080/",
          "height": 1000
        },
        "id": "Q_ciKhRh4nQt",
        "outputId": "f8d502dc-d9f5-4293-aeb1-69629b6f032b"
      },
      "source": [
        "# Experiments to train mdoel and get accuarcy\r\n",
        "# Repeat with batch size and learning rate\r\n",
        "trials = 3\r\n",
        "nodes = [10, 25, 50, 100, 200]\r\n",
        "epochs = [3, 5, 10, 20]\r\n",
        "bs = [8, 16, 32]\r\n",
        "\r\n",
        "resultsMean = []\r\n",
        "resultsStd = []\r\n",
        "\r\n",
        "for n in nodes:\r\n",
        "  print(\"NODE\")\r\n",
        "  print(n)\r\n",
        "  curResultMean = []\r\n",
        "  curResultStd = []\r\n",
        "  for e in epochs:\r\n",
        "    curDataAll = []\r\n",
        "    for t in range(trials):\r\n",
        "      model = Sequential()\r\n",
        "      model.add(Masking(mask_value=pad_value, input_shape=(max_seq_len, 1)))\r\n",
        "      model.add(LSTM(n,return_sequences=True))\r\n",
        "      model.add(LSTM(n))\r\n",
        "      # model.add(Dropout(0.1))\r\n",
        "      model.add(Dense(4, activation='softmax'))\r\n",
        "\r\n",
        "      opt = Adam(learning_rate=0.01)\r\n",
        "      model.compile(loss=\"categorical_crossentropy\", optimizer=opt,  metrics=['accuracy'])\r\n",
        "      print(model.summary())\r\n",
        "      history = model.fit(X_train, y_train, validation_data=(X_test, y_test), epochs=e, verbose=1, batch_size=16)\r\n",
        "      curDataAll.append(model.evaluate(X_test, y_test)[1])\r\n",
        "\r\n",
        "    curResultMean.append(np.mean(curDataAll))\r\n",
        "    curResultStd.append(np.std(curDataAll))\r\n",
        "  resultsMean.append(curResultMean)\r\n",
        "  resultsStd.append(curResultStd)"
      ],
      "execution_count": null,
      "outputs": [
        {
          "output_type": "stream",
          "text": [
            "NODE\n",
            "10\n",
            "Model: \"sequential_45\"\n",
            "_________________________________________________________________\n",
            "Layer (type)                 Output Shape              Param #   \n",
            "=================================================================\n",
            "masking_45 (Masking)         (None, 11344, 1)          0         \n",
            "_________________________________________________________________\n",
            "lstm_45 (LSTM)               (None, 11344, 10)         480       \n",
            "_________________________________________________________________\n",
            "lstm_46 (LSTM)               (None, 10)                840       \n",
            "_________________________________________________________________\n",
            "dense_45 (Dense)             (None, 4)                 44        \n",
            "=================================================================\n",
            "Total params: 1,364\n",
            "Trainable params: 1,364\n",
            "Non-trainable params: 0\n",
            "_________________________________________________________________\n",
            "None\n",
            "Epoch 1/3\n",
            "7/7 [==============================] - 11s 769ms/step - loss: 1.4312 - accuracy: 0.2901 - val_loss: 1.3675 - val_accuracy: 0.2973\n",
            "Epoch 2/3\n",
            "7/7 [==============================] - 3s 376ms/step - loss: 1.3598 - accuracy: 0.3490 - val_loss: 1.3771 - val_accuracy: 0.2973\n",
            "Epoch 3/3\n",
            "7/7 [==============================] - 3s 369ms/step - loss: 1.3314 - accuracy: 0.3743 - val_loss: 1.3802 - val_accuracy: 0.2973\n",
            "2/2 [==============================] - 0s 277ms/step - loss: 1.3802 - accuracy: 0.2973\n",
            "Model: \"sequential_46\"\n",
            "_________________________________________________________________\n",
            "Layer (type)                 Output Shape              Param #   \n",
            "=================================================================\n",
            "masking_46 (Masking)         (None, 11344, 1)          0         \n",
            "_________________________________________________________________\n",
            "lstm_47 (LSTM)               (None, 11344, 10)         480       \n",
            "_________________________________________________________________\n",
            "lstm_48 (LSTM)               (None, 10)                840       \n",
            "_________________________________________________________________\n",
            "dense_46 (Dense)             (None, 4)                 44        \n",
            "=================================================================\n",
            "Total params: 1,364\n",
            "Trainable params: 1,364\n",
            "Non-trainable params: 0\n",
            "_________________________________________________________________\n",
            "None\n",
            "Epoch 1/3\n",
            "7/7 [==============================] - 10s 706ms/step - loss: 1.4074 - accuracy: 0.2589 - val_loss: 1.3184 - val_accuracy: 0.2973\n",
            "Epoch 2/3\n",
            "7/7 [==============================] - 3s 368ms/step - loss: 1.3486 - accuracy: 0.3493 - val_loss: 1.3866 - val_accuracy: 0.2973\n",
            "Epoch 3/3\n",
            "7/7 [==============================] - 3s 384ms/step - loss: 1.3401 - accuracy: 0.3388 - val_loss: 1.3784 - val_accuracy: 0.2973\n",
            "2/2 [==============================] - 0s 271ms/step - loss: 1.3784 - accuracy: 0.2973\n",
            "Model: \"sequential_47\"\n",
            "_________________________________________________________________\n",
            "Layer (type)                 Output Shape              Param #   \n",
            "=================================================================\n",
            "masking_47 (Masking)         (None, 11344, 1)          0         \n",
            "_________________________________________________________________\n",
            "lstm_49 (LSTM)               (None, 11344, 10)         480       \n",
            "_________________________________________________________________\n",
            "lstm_50 (LSTM)               (None, 10)                840       \n",
            "_________________________________________________________________\n",
            "dense_47 (Dense)             (None, 4)                 44        \n",
            "=================================================================\n",
            "Total params: 1,364\n",
            "Trainable params: 1,364\n",
            "Non-trainable params: 0\n",
            "_________________________________________________________________\n",
            "None\n",
            "Epoch 1/3\n",
            "7/7 [==============================] - 11s 725ms/step - loss: 1.4017 - accuracy: 0.2552 - val_loss: 1.3625 - val_accuracy: 0.2973\n",
            "Epoch 2/3\n",
            "7/7 [==============================] - 2s 340ms/step - loss: 1.3687 - accuracy: 0.2977 - val_loss: 1.3401 - val_accuracy: 0.3514\n",
            "Epoch 3/3\n",
            "7/7 [==============================] - 3s 384ms/step - loss: 1.3563 - accuracy: 0.3471 - val_loss: 1.3716 - val_accuracy: 0.2973\n",
            "2/2 [==============================] - 0s 280ms/step - loss: 1.3716 - accuracy: 0.2973\n",
            "Model: \"sequential_48\"\n",
            "_________________________________________________________________\n",
            "Layer (type)                 Output Shape              Param #   \n",
            "=================================================================\n",
            "masking_48 (Masking)         (None, 11344, 1)          0         \n",
            "_________________________________________________________________\n",
            "lstm_51 (LSTM)               (None, 11344, 10)         480       \n",
            "_________________________________________________________________\n",
            "lstm_52 (LSTM)               (None, 10)                840       \n",
            "_________________________________________________________________\n",
            "dense_48 (Dense)             (None, 4)                 44        \n",
            "=================================================================\n",
            "Total params: 1,364\n",
            "Trainable params: 1,364\n",
            "Non-trainable params: 0\n",
            "_________________________________________________________________\n",
            "None\n",
            "Epoch 1/5\n",
            "7/7 [==============================] - 11s 696ms/step - loss: 1.4030 - accuracy: 0.2881 - val_loss: 1.3789 - val_accuracy: 0.2973\n",
            "Epoch 2/5\n",
            "7/7 [==============================] - 2s 347ms/step - loss: 1.3830 - accuracy: 0.2965 - val_loss: 1.3596 - val_accuracy: 0.2973\n",
            "Epoch 3/5\n",
            "7/7 [==============================] - 3s 404ms/step - loss: 1.3281 - accuracy: 0.3836 - val_loss: 1.3647 - val_accuracy: 0.2973\n",
            "Epoch 4/5\n",
            "7/7 [==============================] - 3s 367ms/step - loss: 1.3696 - accuracy: 0.2897 - val_loss: 1.3525 - val_accuracy: 0.2973\n",
            "Epoch 5/5\n",
            "7/7 [==============================] - 3s 427ms/step - loss: 1.3686 - accuracy: 0.3118 - val_loss: 1.3614 - val_accuracy: 0.2973\n",
            "2/2 [==============================] - 0s 275ms/step - loss: 1.3614 - accuracy: 0.2973\n",
            "Model: \"sequential_49\"\n",
            "_________________________________________________________________\n",
            "Layer (type)                 Output Shape              Param #   \n",
            "=================================================================\n",
            "masking_49 (Masking)         (None, 11344, 1)          0         \n",
            "_________________________________________________________________\n",
            "lstm_53 (LSTM)               (None, 11344, 10)         480       \n",
            "_________________________________________________________________\n",
            "lstm_54 (LSTM)               (None, 10)                840       \n",
            "_________________________________________________________________\n",
            "dense_49 (Dense)             (None, 4)                 44        \n",
            "=================================================================\n",
            "Total params: 1,364\n",
            "Trainable params: 1,364\n",
            "Non-trainable params: 0\n",
            "_________________________________________________________________\n",
            "None\n",
            "Epoch 1/5\n",
            "7/7 [==============================] - 11s 762ms/step - loss: 1.3814 - accuracy: 0.2616 - val_loss: 1.3329 - val_accuracy: 0.4324\n",
            "Epoch 2/5\n",
            "7/7 [==============================] - 2s 363ms/step - loss: 1.3636 - accuracy: 0.2889 - val_loss: 1.4033 - val_accuracy: 0.2973\n",
            "Epoch 3/5\n",
            "7/7 [==============================] - 3s 405ms/step - loss: 1.3714 - accuracy: 0.3151 - val_loss: 1.3934 - val_accuracy: 0.2973\n",
            "Epoch 4/5\n",
            "7/7 [==============================] - 2s 373ms/step - loss: 1.3794 - accuracy: 0.3352 - val_loss: 1.3482 - val_accuracy: 0.2973\n",
            "Epoch 5/5\n",
            "7/7 [==============================] - 3s 365ms/step - loss: 1.3835 - accuracy: 0.2637 - val_loss: 1.3591 - val_accuracy: 0.2973\n",
            "2/2 [==============================] - 0s 272ms/step - loss: 1.3591 - accuracy: 0.2973\n",
            "Model: \"sequential_50\"\n",
            "_________________________________________________________________\n",
            "Layer (type)                 Output Shape              Param #   \n",
            "=================================================================\n",
            "masking_50 (Masking)         (None, 11344, 1)          0         \n",
            "_________________________________________________________________\n",
            "lstm_55 (LSTM)               (None, 11344, 10)         480       \n",
            "_________________________________________________________________\n",
            "lstm_56 (LSTM)               (None, 10)                840       \n",
            "_________________________________________________________________\n",
            "dense_50 (Dense)             (None, 4)                 44        \n",
            "=================================================================\n",
            "Total params: 1,364\n",
            "Trainable params: 1,364\n",
            "Non-trainable params: 0\n",
            "_________________________________________________________________\n",
            "None\n",
            "Epoch 1/5\n",
            "7/7 [==============================] - 11s 745ms/step - loss: 1.3837 - accuracy: 0.2276 - val_loss: 1.3393 - val_accuracy: 0.2973\n",
            "Epoch 2/5\n",
            "7/7 [==============================] - 3s 401ms/step - loss: 1.3560 - accuracy: 0.3365 - val_loss: 1.3653 - val_accuracy: 0.2973\n",
            "Epoch 3/5\n",
            "7/7 [==============================] - 3s 386ms/step - loss: 1.3955 - accuracy: 0.2951 - val_loss: 1.3712 - val_accuracy: 0.2973\n",
            "Epoch 4/5\n",
            "7/7 [==============================] - 2s 371ms/step - loss: 1.3670 - accuracy: 0.2827 - val_loss: 1.3589 - val_accuracy: 0.2973\n",
            "Epoch 5/5\n",
            "7/7 [==============================] - 3s 363ms/step - loss: 1.3449 - accuracy: 0.3572 - val_loss: 1.3585 - val_accuracy: 0.2973\n",
            "2/2 [==============================] - 0s 276ms/step - loss: 1.3585 - accuracy: 0.2973\n",
            "Model: \"sequential_51\"\n",
            "_________________________________________________________________\n",
            "Layer (type)                 Output Shape              Param #   \n",
            "=================================================================\n",
            "masking_51 (Masking)         (None, 11344, 1)          0         \n",
            "_________________________________________________________________\n",
            "lstm_57 (LSTM)               (None, 11344, 10)         480       \n",
            "_________________________________________________________________\n",
            "lstm_58 (LSTM)               (None, 10)                840       \n",
            "_________________________________________________________________\n",
            "dense_51 (Dense)             (None, 4)                 44        \n",
            "=================================================================\n",
            "Total params: 1,364\n",
            "Trainable params: 1,364\n",
            "Non-trainable params: 0\n",
            "_________________________________________________________________\n",
            "None\n",
            "Epoch 1/10\n",
            "7/7 [==============================] - 11s 744ms/step - loss: 1.4129 - accuracy: 0.2280 - val_loss: 1.3968 - val_accuracy: 0.2973\n",
            "Epoch 2/10\n",
            "7/7 [==============================] - 3s 429ms/step - loss: 1.3464 - accuracy: 0.3801 - val_loss: 1.3933 - val_accuracy: 0.2973\n",
            "Epoch 3/10\n",
            "7/7 [==============================] - 2s 384ms/step - loss: 1.3299 - accuracy: 0.3743 - val_loss: 1.3518 - val_accuracy: 0.2973\n",
            "Epoch 4/10\n",
            "7/7 [==============================] - 2s 388ms/step - loss: 1.3949 - accuracy: 0.2829 - val_loss: 1.3470 - val_accuracy: 0.2973\n",
            "Epoch 5/10\n",
            "7/7 [==============================] - 2s 388ms/step - loss: 1.3367 - accuracy: 0.3846 - val_loss: 1.3545 - val_accuracy: 0.2973\n",
            "Epoch 6/10\n",
            "7/7 [==============================] - 3s 382ms/step - loss: 1.3596 - accuracy: 0.3234 - val_loss: 1.3503 - val_accuracy: 0.2973\n",
            "Epoch 7/10\n",
            "7/7 [==============================] - 3s 417ms/step - loss: 1.3607 - accuracy: 0.3193 - val_loss: 1.3469 - val_accuracy: 0.2973\n",
            "Epoch 8/10\n",
            "7/7 [==============================] - 3s 421ms/step - loss: 1.3756 - accuracy: 0.3100 - val_loss: 1.3652 - val_accuracy: 0.2973\n",
            "Epoch 9/10\n",
            "7/7 [==============================] - 3s 392ms/step - loss: 1.3429 - accuracy: 0.3454 - val_loss: 1.3688 - val_accuracy: 0.2973\n",
            "Epoch 10/10\n",
            "7/7 [==============================] - 3s 401ms/step - loss: 1.3741 - accuracy: 0.3033 - val_loss: 1.3650 - val_accuracy: 0.2973\n",
            "2/2 [==============================] - 0s 273ms/step - loss: 1.3650 - accuracy: 0.2973\n",
            "Model: \"sequential_52\"\n",
            "_________________________________________________________________\n",
            "Layer (type)                 Output Shape              Param #   \n",
            "=================================================================\n",
            "masking_52 (Masking)         (None, 11344, 1)          0         \n",
            "_________________________________________________________________\n",
            "lstm_59 (LSTM)               (None, 11344, 10)         480       \n",
            "_________________________________________________________________\n",
            "lstm_60 (LSTM)               (None, 10)                840       \n",
            "_________________________________________________________________\n",
            "dense_52 (Dense)             (None, 4)                 44        \n",
            "=================================================================\n",
            "Total params: 1,364\n",
            "Trainable params: 1,364\n",
            "Non-trainable params: 0\n",
            "_________________________________________________________________\n",
            "None\n",
            "Epoch 1/10\n",
            "7/7 [==============================] - 10s 723ms/step - loss: 1.3988 - accuracy: 0.2260 - val_loss: 1.3479 - val_accuracy: 0.2973\n",
            "Epoch 2/10\n",
            "7/7 [==============================] - 3s 398ms/step - loss: 1.3610 - accuracy: 0.3491 - val_loss: 1.3755 - val_accuracy: 0.2973\n",
            "Epoch 3/10\n",
            "7/7 [==============================] - 3s 410ms/step - loss: 1.3639 - accuracy: 0.3357 - val_loss: 1.3548 - val_accuracy: 0.2973\n",
            "Epoch 4/10\n",
            "7/7 [==============================] - 3s 358ms/step - loss: 1.3413 - accuracy: 0.3466 - val_loss: 1.3518 - val_accuracy: 0.2973\n",
            "Epoch 5/10\n",
            "7/7 [==============================] - 3s 407ms/step - loss: 1.4060 - accuracy: 0.2764 - val_loss: 1.3740 - val_accuracy: 0.2973\n",
            "Epoch 6/10\n",
            "7/7 [==============================] - 3s 380ms/step - loss: 1.3430 - accuracy: 0.3544 - val_loss: 1.3737 - val_accuracy: 0.2973\n",
            "Epoch 7/10\n",
            "7/7 [==============================] - 3s 368ms/step - loss: 1.3514 - accuracy: 0.3362 - val_loss: 1.3584 - val_accuracy: 0.2973\n",
            "Epoch 8/10\n",
            "7/7 [==============================] - 3s 391ms/step - loss: 1.3766 - accuracy: 0.3279 - val_loss: 1.3443 - val_accuracy: 0.2973\n",
            "Epoch 9/10\n",
            "7/7 [==============================] - 3s 347ms/step - loss: 1.3598 - accuracy: 0.3238 - val_loss: 1.3710 - val_accuracy: 0.2973\n",
            "Epoch 10/10\n",
            "7/7 [==============================] - 3s 372ms/step - loss: 1.3627 - accuracy: 0.3079 - val_loss: 1.3693 - val_accuracy: 0.2973\n",
            "2/2 [==============================] - 0s 275ms/step - loss: 1.3693 - accuracy: 0.2973\n",
            "Model: \"sequential_53\"\n",
            "_________________________________________________________________\n",
            "Layer (type)                 Output Shape              Param #   \n",
            "=================================================================\n",
            "masking_53 (Masking)         (None, 11344, 1)          0         \n",
            "_________________________________________________________________\n",
            "lstm_61 (LSTM)               (None, 11344, 10)         480       \n",
            "_________________________________________________________________\n",
            "lstm_62 (LSTM)               (None, 10)                840       \n",
            "_________________________________________________________________\n",
            "dense_53 (Dense)             (None, 4)                 44        \n",
            "=================================================================\n",
            "Total params: 1,364\n",
            "Trainable params: 1,364\n",
            "Non-trainable params: 0\n",
            "_________________________________________________________________\n",
            "None\n",
            "Epoch 1/10\n",
            "7/7 [==============================] - 11s 730ms/step - loss: 1.3810 - accuracy: 0.2493 - val_loss: 1.3733 - val_accuracy: 0.2973\n",
            "Epoch 2/10\n",
            "7/7 [==============================] - 3s 430ms/step - loss: 1.3614 - accuracy: 0.3441 - val_loss: 1.3759 - val_accuracy: 0.2973\n",
            "Epoch 3/10\n",
            "7/7 [==============================] - 3s 409ms/step - loss: 1.3689 - accuracy: 0.3020 - val_loss: 1.3499 - val_accuracy: 0.2973\n",
            "Epoch 4/10\n",
            "7/7 [==============================] - 3s 388ms/step - loss: 1.3536 - accuracy: 0.3348 - val_loss: 1.3321 - val_accuracy: 0.2973\n",
            "Epoch 5/10\n",
            "7/7 [==============================] - 3s 404ms/step - loss: 1.3723 - accuracy: 0.3648 - val_loss: 1.3755 - val_accuracy: 0.2973\n",
            "Epoch 6/10\n",
            "7/7 [==============================] - 3s 385ms/step - loss: 1.3618 - accuracy: 0.3251 - val_loss: 1.3784 - val_accuracy: 0.2973\n",
            "Epoch 7/10\n",
            "7/7 [==============================] - 3s 387ms/step - loss: 1.3409 - accuracy: 0.3888 - val_loss: 1.3642 - val_accuracy: 0.2973\n",
            "Epoch 8/10\n",
            "5/7 [====================>.........] - ETA: 0s - loss: 1.3329 - accuracy: 0.3060"
          ],
          "name": "stdout"
        },
        {
          "output_type": "error",
          "ename": "KeyboardInterrupt",
          "evalue": "ignored",
          "traceback": [
            "\u001b[0;31m---------------------------------------------------------------------------\u001b[0m",
            "\u001b[0;31mKeyboardInterrupt\u001b[0m                         Traceback (most recent call last)",
            "\u001b[0;32m<ipython-input-14-9c59c75ad499>\u001b[0m in \u001b[0;36m<module>\u001b[0;34m()\u001b[0m\n\u001b[1;32m     26\u001b[0m       \u001b[0mmodel\u001b[0m\u001b[0;34m.\u001b[0m\u001b[0mcompile\u001b[0m\u001b[0;34m(\u001b[0m\u001b[0mloss\u001b[0m\u001b[0;34m=\u001b[0m\u001b[0;34m\"categorical_crossentropy\"\u001b[0m\u001b[0;34m,\u001b[0m \u001b[0moptimizer\u001b[0m\u001b[0;34m=\u001b[0m\u001b[0mopt\u001b[0m\u001b[0;34m,\u001b[0m  \u001b[0mmetrics\u001b[0m\u001b[0;34m=\u001b[0m\u001b[0;34m[\u001b[0m\u001b[0;34m'accuracy'\u001b[0m\u001b[0;34m]\u001b[0m\u001b[0;34m)\u001b[0m\u001b[0;34m\u001b[0m\u001b[0;34m\u001b[0m\u001b[0m\n\u001b[1;32m     27\u001b[0m       \u001b[0mprint\u001b[0m\u001b[0;34m(\u001b[0m\u001b[0mmodel\u001b[0m\u001b[0;34m.\u001b[0m\u001b[0msummary\u001b[0m\u001b[0;34m(\u001b[0m\u001b[0;34m)\u001b[0m\u001b[0;34m)\u001b[0m\u001b[0;34m\u001b[0m\u001b[0;34m\u001b[0m\u001b[0m\n\u001b[0;32m---> 28\u001b[0;31m       \u001b[0mhistory\u001b[0m \u001b[0;34m=\u001b[0m \u001b[0mmodel\u001b[0m\u001b[0;34m.\u001b[0m\u001b[0mfit\u001b[0m\u001b[0;34m(\u001b[0m\u001b[0mX_train\u001b[0m\u001b[0;34m,\u001b[0m \u001b[0my_train\u001b[0m\u001b[0;34m,\u001b[0m \u001b[0mvalidation_data\u001b[0m\u001b[0;34m=\u001b[0m\u001b[0;34m(\u001b[0m\u001b[0mX_test\u001b[0m\u001b[0;34m,\u001b[0m \u001b[0my_test\u001b[0m\u001b[0;34m)\u001b[0m\u001b[0;34m,\u001b[0m \u001b[0mepochs\u001b[0m\u001b[0;34m=\u001b[0m\u001b[0me\u001b[0m\u001b[0;34m,\u001b[0m \u001b[0mverbose\u001b[0m\u001b[0;34m=\u001b[0m\u001b[0;36m1\u001b[0m\u001b[0;34m,\u001b[0m \u001b[0mbatch_size\u001b[0m\u001b[0;34m=\u001b[0m\u001b[0;36m16\u001b[0m\u001b[0;34m)\u001b[0m\u001b[0;34m\u001b[0m\u001b[0;34m\u001b[0m\u001b[0m\n\u001b[0m\u001b[1;32m     29\u001b[0m       \u001b[0mcurDataAll\u001b[0m\u001b[0;34m.\u001b[0m\u001b[0mappend\u001b[0m\u001b[0;34m(\u001b[0m\u001b[0mmodel\u001b[0m\u001b[0;34m.\u001b[0m\u001b[0mevaluate\u001b[0m\u001b[0;34m(\u001b[0m\u001b[0mX_test\u001b[0m\u001b[0;34m,\u001b[0m \u001b[0my_test\u001b[0m\u001b[0;34m)\u001b[0m\u001b[0;34m[\u001b[0m\u001b[0;36m1\u001b[0m\u001b[0;34m]\u001b[0m\u001b[0;34m)\u001b[0m\u001b[0;34m\u001b[0m\u001b[0;34m\u001b[0m\u001b[0m\n\u001b[1;32m     30\u001b[0m \u001b[0;34m\u001b[0m\u001b[0m\n",
            "\u001b[0;32m/usr/local/lib/python3.6/dist-packages/tensorflow/python/keras/engine/training.py\u001b[0m in \u001b[0;36mfit\u001b[0;34m(self, x, y, batch_size, epochs, verbose, callbacks, validation_split, validation_data, shuffle, class_weight, sample_weight, initial_epoch, steps_per_epoch, validation_steps, validation_batch_size, validation_freq, max_queue_size, workers, use_multiprocessing)\u001b[0m\n\u001b[1;32m   1098\u001b[0m                 _r=1):\n\u001b[1;32m   1099\u001b[0m               \u001b[0mcallbacks\u001b[0m\u001b[0;34m.\u001b[0m\u001b[0mon_train_batch_begin\u001b[0m\u001b[0;34m(\u001b[0m\u001b[0mstep\u001b[0m\u001b[0;34m)\u001b[0m\u001b[0;34m\u001b[0m\u001b[0;34m\u001b[0m\u001b[0m\n\u001b[0;32m-> 1100\u001b[0;31m               \u001b[0mtmp_logs\u001b[0m \u001b[0;34m=\u001b[0m \u001b[0mself\u001b[0m\u001b[0;34m.\u001b[0m\u001b[0mtrain_function\u001b[0m\u001b[0;34m(\u001b[0m\u001b[0miterator\u001b[0m\u001b[0;34m)\u001b[0m\u001b[0;34m\u001b[0m\u001b[0;34m\u001b[0m\u001b[0m\n\u001b[0m\u001b[1;32m   1101\u001b[0m               \u001b[0;32mif\u001b[0m \u001b[0mdata_handler\u001b[0m\u001b[0;34m.\u001b[0m\u001b[0mshould_sync\u001b[0m\u001b[0;34m:\u001b[0m\u001b[0;34m\u001b[0m\u001b[0;34m\u001b[0m\u001b[0m\n\u001b[1;32m   1102\u001b[0m                 \u001b[0mcontext\u001b[0m\u001b[0;34m.\u001b[0m\u001b[0masync_wait\u001b[0m\u001b[0;34m(\u001b[0m\u001b[0;34m)\u001b[0m\u001b[0;34m\u001b[0m\u001b[0;34m\u001b[0m\u001b[0m\n",
            "\u001b[0;32m/usr/local/lib/python3.6/dist-packages/tensorflow/python/eager/def_function.py\u001b[0m in \u001b[0;36m__call__\u001b[0;34m(self, *args, **kwds)\u001b[0m\n\u001b[1;32m    826\u001b[0m     \u001b[0mtracing_count\u001b[0m \u001b[0;34m=\u001b[0m \u001b[0mself\u001b[0m\u001b[0;34m.\u001b[0m\u001b[0mexperimental_get_tracing_count\u001b[0m\u001b[0;34m(\u001b[0m\u001b[0;34m)\u001b[0m\u001b[0;34m\u001b[0m\u001b[0;34m\u001b[0m\u001b[0m\n\u001b[1;32m    827\u001b[0m     \u001b[0;32mwith\u001b[0m \u001b[0mtrace\u001b[0m\u001b[0;34m.\u001b[0m\u001b[0mTrace\u001b[0m\u001b[0;34m(\u001b[0m\u001b[0mself\u001b[0m\u001b[0;34m.\u001b[0m\u001b[0m_name\u001b[0m\u001b[0;34m)\u001b[0m \u001b[0;32mas\u001b[0m \u001b[0mtm\u001b[0m\u001b[0;34m:\u001b[0m\u001b[0;34m\u001b[0m\u001b[0;34m\u001b[0m\u001b[0m\n\u001b[0;32m--> 828\u001b[0;31m       \u001b[0mresult\u001b[0m \u001b[0;34m=\u001b[0m \u001b[0mself\u001b[0m\u001b[0;34m.\u001b[0m\u001b[0m_call\u001b[0m\u001b[0;34m(\u001b[0m\u001b[0;34m*\u001b[0m\u001b[0margs\u001b[0m\u001b[0;34m,\u001b[0m \u001b[0;34m**\u001b[0m\u001b[0mkwds\u001b[0m\u001b[0;34m)\u001b[0m\u001b[0;34m\u001b[0m\u001b[0;34m\u001b[0m\u001b[0m\n\u001b[0m\u001b[1;32m    829\u001b[0m       \u001b[0mcompiler\u001b[0m \u001b[0;34m=\u001b[0m \u001b[0;34m\"xla\"\u001b[0m \u001b[0;32mif\u001b[0m \u001b[0mself\u001b[0m\u001b[0;34m.\u001b[0m\u001b[0m_experimental_compile\u001b[0m \u001b[0;32melse\u001b[0m \u001b[0;34m\"nonXla\"\u001b[0m\u001b[0;34m\u001b[0m\u001b[0;34m\u001b[0m\u001b[0m\n\u001b[1;32m    830\u001b[0m       \u001b[0mnew_tracing_count\u001b[0m \u001b[0;34m=\u001b[0m \u001b[0mself\u001b[0m\u001b[0;34m.\u001b[0m\u001b[0mexperimental_get_tracing_count\u001b[0m\u001b[0;34m(\u001b[0m\u001b[0;34m)\u001b[0m\u001b[0;34m\u001b[0m\u001b[0;34m\u001b[0m\u001b[0m\n",
            "\u001b[0;32m/usr/local/lib/python3.6/dist-packages/tensorflow/python/eager/def_function.py\u001b[0m in \u001b[0;36m_call\u001b[0;34m(self, *args, **kwds)\u001b[0m\n\u001b[1;32m    853\u001b[0m       \u001b[0;31m# In this case we have created variables on the first call, so we run the\u001b[0m\u001b[0;34m\u001b[0m\u001b[0;34m\u001b[0m\u001b[0;34m\u001b[0m\u001b[0m\n\u001b[1;32m    854\u001b[0m       \u001b[0;31m# defunned version which is guaranteed to never create variables.\u001b[0m\u001b[0;34m\u001b[0m\u001b[0;34m\u001b[0m\u001b[0;34m\u001b[0m\u001b[0m\n\u001b[0;32m--> 855\u001b[0;31m       \u001b[0;32mreturn\u001b[0m \u001b[0mself\u001b[0m\u001b[0;34m.\u001b[0m\u001b[0m_stateless_fn\u001b[0m\u001b[0;34m(\u001b[0m\u001b[0;34m*\u001b[0m\u001b[0margs\u001b[0m\u001b[0;34m,\u001b[0m \u001b[0;34m**\u001b[0m\u001b[0mkwds\u001b[0m\u001b[0;34m)\u001b[0m  \u001b[0;31m# pylint: disable=not-callable\u001b[0m\u001b[0;34m\u001b[0m\u001b[0;34m\u001b[0m\u001b[0m\n\u001b[0m\u001b[1;32m    856\u001b[0m     \u001b[0;32melif\u001b[0m \u001b[0mself\u001b[0m\u001b[0;34m.\u001b[0m\u001b[0m_stateful_fn\u001b[0m \u001b[0;32mis\u001b[0m \u001b[0;32mnot\u001b[0m \u001b[0;32mNone\u001b[0m\u001b[0;34m:\u001b[0m\u001b[0;34m\u001b[0m\u001b[0;34m\u001b[0m\u001b[0m\n\u001b[1;32m    857\u001b[0m       \u001b[0;31m# Release the lock early so that multiple threads can perform the call\u001b[0m\u001b[0;34m\u001b[0m\u001b[0;34m\u001b[0m\u001b[0;34m\u001b[0m\u001b[0m\n",
            "\u001b[0;32m/usr/local/lib/python3.6/dist-packages/tensorflow/python/eager/function.py\u001b[0m in \u001b[0;36m__call__\u001b[0;34m(self, *args, **kwargs)\u001b[0m\n\u001b[1;32m   2941\u001b[0m        filtered_flat_args) = self._maybe_define_function(args, kwargs)\n\u001b[1;32m   2942\u001b[0m     return graph_function._call_flat(\n\u001b[0;32m-> 2943\u001b[0;31m         filtered_flat_args, captured_inputs=graph_function.captured_inputs)  # pylint: disable=protected-access\n\u001b[0m\u001b[1;32m   2944\u001b[0m \u001b[0;34m\u001b[0m\u001b[0m\n\u001b[1;32m   2945\u001b[0m   \u001b[0;34m@\u001b[0m\u001b[0mproperty\u001b[0m\u001b[0;34m\u001b[0m\u001b[0;34m\u001b[0m\u001b[0m\n",
            "\u001b[0;32m/usr/local/lib/python3.6/dist-packages/tensorflow/python/eager/function.py\u001b[0m in \u001b[0;36m_call_flat\u001b[0;34m(self, args, captured_inputs, cancellation_manager)\u001b[0m\n\u001b[1;32m   1917\u001b[0m       \u001b[0;31m# No tape is watching; skip to running the function.\u001b[0m\u001b[0;34m\u001b[0m\u001b[0;34m\u001b[0m\u001b[0;34m\u001b[0m\u001b[0m\n\u001b[1;32m   1918\u001b[0m       return self._build_call_outputs(self._inference_function.call(\n\u001b[0;32m-> 1919\u001b[0;31m           ctx, args, cancellation_manager=cancellation_manager))\n\u001b[0m\u001b[1;32m   1920\u001b[0m     forward_backward = self._select_forward_and_backward_functions(\n\u001b[1;32m   1921\u001b[0m         \u001b[0margs\u001b[0m\u001b[0;34m,\u001b[0m\u001b[0;34m\u001b[0m\u001b[0;34m\u001b[0m\u001b[0m\n",
            "\u001b[0;32m/usr/local/lib/python3.6/dist-packages/tensorflow/python/eager/function.py\u001b[0m in \u001b[0;36mcall\u001b[0;34m(self, ctx, args, cancellation_manager)\u001b[0m\n\u001b[1;32m    558\u001b[0m               \u001b[0minputs\u001b[0m\u001b[0;34m=\u001b[0m\u001b[0margs\u001b[0m\u001b[0;34m,\u001b[0m\u001b[0;34m\u001b[0m\u001b[0;34m\u001b[0m\u001b[0m\n\u001b[1;32m    559\u001b[0m               \u001b[0mattrs\u001b[0m\u001b[0;34m=\u001b[0m\u001b[0mattrs\u001b[0m\u001b[0;34m,\u001b[0m\u001b[0;34m\u001b[0m\u001b[0;34m\u001b[0m\u001b[0m\n\u001b[0;32m--> 560\u001b[0;31m               ctx=ctx)\n\u001b[0m\u001b[1;32m    561\u001b[0m         \u001b[0;32melse\u001b[0m\u001b[0;34m:\u001b[0m\u001b[0;34m\u001b[0m\u001b[0;34m\u001b[0m\u001b[0m\n\u001b[1;32m    562\u001b[0m           outputs = execute.execute_with_cancellation(\n",
            "\u001b[0;32m/usr/local/lib/python3.6/dist-packages/tensorflow/python/eager/execute.py\u001b[0m in \u001b[0;36mquick_execute\u001b[0;34m(op_name, num_outputs, inputs, attrs, ctx, name)\u001b[0m\n\u001b[1;32m     58\u001b[0m     \u001b[0mctx\u001b[0m\u001b[0;34m.\u001b[0m\u001b[0mensure_initialized\u001b[0m\u001b[0;34m(\u001b[0m\u001b[0;34m)\u001b[0m\u001b[0;34m\u001b[0m\u001b[0;34m\u001b[0m\u001b[0m\n\u001b[1;32m     59\u001b[0m     tensors = pywrap_tfe.TFE_Py_Execute(ctx._handle, device_name, op_name,\n\u001b[0;32m---> 60\u001b[0;31m                                         inputs, attrs, num_outputs)\n\u001b[0m\u001b[1;32m     61\u001b[0m   \u001b[0;32mexcept\u001b[0m \u001b[0mcore\u001b[0m\u001b[0;34m.\u001b[0m\u001b[0m_NotOkStatusException\u001b[0m \u001b[0;32mas\u001b[0m \u001b[0me\u001b[0m\u001b[0;34m:\u001b[0m\u001b[0;34m\u001b[0m\u001b[0;34m\u001b[0m\u001b[0m\n\u001b[1;32m     62\u001b[0m     \u001b[0;32mif\u001b[0m \u001b[0mname\u001b[0m \u001b[0;32mis\u001b[0m \u001b[0;32mnot\u001b[0m \u001b[0;32mNone\u001b[0m\u001b[0;34m:\u001b[0m\u001b[0;34m\u001b[0m\u001b[0;34m\u001b[0m\u001b[0m\n",
            "\u001b[0;31mKeyboardInterrupt\u001b[0m: "
          ]
        }
      ]
    },
    {
      "cell_type": "code",
      "metadata": {
        "colab": {
          "base_uri": "https://localhost:8080/",
          "height": 295
        },
        "id": "MwqlkGkzHVcv",
        "outputId": "9c544f3e-e2fd-4827-a24e-7bce3392522c"
      },
      "source": [
        "# plot above\r\n",
        "import matplotlib.pyplot as plt\r\n",
        "\r\n",
        "for i in range(len(resultsMean)):\r\n",
        "  plt.errorbar(epochs, resultsMean[i], resultsStd[i], marker = 'o', alpha = 0.5)\r\n",
        "plt.grid()\r\n",
        "plt.title(\"Test Accuracy with Various Epochs/Nodes in Base LSTM\")\r\n",
        "plt.ylabel(\"Classification Accuracy (proportion) on Test Set\")\r\n",
        "plt.xlabel(\"Number of Epochs\")\r\n",
        "lgd = plt.legend(nodes, title=\"LSTM Nodes\", bbox_to_anchor=(1.04,0.5), loc=\"center left\")\r\n",
        "from google.colab import files\r\n",
        "plt.savefig(\"binary.png\",bbox_extra_artists=(lgd,), bbox_inches='tight', dpi = 1000)\r\n",
        "files.download(\"binary.png\")\r\n"
      ],
      "execution_count": 21,
      "outputs": [
        {
          "output_type": "display_data",
          "data": {
            "application/javascript": [
              "\n",
              "    async function download(id, filename, size) {\n",
              "      if (!google.colab.kernel.accessAllowed) {\n",
              "        return;\n",
              "      }\n",
              "      const div = document.createElement('div');\n",
              "      const label = document.createElement('label');\n",
              "      label.textContent = `Downloading \"${filename}\": `;\n",
              "      div.appendChild(label);\n",
              "      const progress = document.createElement('progress');\n",
              "      progress.max = size;\n",
              "      div.appendChild(progress);\n",
              "      document.body.appendChild(div);\n",
              "\n",
              "      const buffers = [];\n",
              "      let downloaded = 0;\n",
              "\n",
              "      const channel = await google.colab.kernel.comms.open(id);\n",
              "      // Send a message to notify the kernel that we're ready.\n",
              "      channel.send({})\n",
              "\n",
              "      for await (const message of channel.messages) {\n",
              "        // Send a message to notify the kernel that we're ready.\n",
              "        channel.send({})\n",
              "        if (message.buffers) {\n",
              "          for (const buffer of message.buffers) {\n",
              "            buffers.push(buffer);\n",
              "            downloaded += buffer.byteLength;\n",
              "            progress.value = downloaded;\n",
              "          }\n",
              "        }\n",
              "      }\n",
              "      const blob = new Blob(buffers, {type: 'application/binary'});\n",
              "      const a = document.createElement('a');\n",
              "      a.href = window.URL.createObjectURL(blob);\n",
              "      a.download = filename;\n",
              "      div.appendChild(a);\n",
              "      a.click();\n",
              "      div.remove();\n",
              "    }\n",
              "  "
            ],
            "text/plain": [
              "<IPython.core.display.Javascript object>"
            ]
          },
          "metadata": {
            "tags": []
          }
        },
        {
          "output_type": "display_data",
          "data": {
            "application/javascript": [
              "download(\"download_b705aee8-a9f4-4278-b722-524a5bf553f8\", \"binary.png\", 836811)"
            ],
            "text/plain": [
              "<IPython.core.display.Javascript object>"
            ]
          },
          "metadata": {
            "tags": []
          }
        },
        {
          "output_type": "display_data",
          "data": {
            "image/png": "[encoded data removed]",
            "text/plain": [
              "<Figure size 432x288 with 1 Axes>"
            ]
          },
          "metadata": {
            "tags": [],
            "needs_background": "light"
          }
        }
      ]
    },
    {
      "cell_type": "code",
      "metadata": {
        "colab": {
          "base_uri": "https://localhost:8080/"
        },
        "id": "FamO5EY-zJW9",
        "outputId": "44c2f7aa-c47e-4489-f402-cbb26e2e1377"
      },
      "source": [
        "# Train just one model\r\n",
        "model = Sequential()\r\n",
        "model.add(Masking(mask_value=pad_value, input_shape=(max_seq_len, 1)))\r\n",
        "model.add(Bidirectional(LSTM(25)))\r\n",
        "model.add(Dense(4, activation='softmax'))\r\n",
        "\r\n",
        "opt = Adam(learning_rate=0.01)\r\n",
        "model.compile(loss=\"categorical_crossentropy\", optimizer=opt,  metrics=['accuracy'])\r\n",
        "# print(model.summary())\r\n",
        "history = model.fit(X_train, y_train, validation_data=(X_test, y_test), epochs=20, verbose=1, batch_size=16)\r\n",
        "i+=1\r\n",
        "acc = model.evaluate(X_test, y_test)[1]"
      ],
      "execution_count": 20,
      "outputs": [
        {
          "output_type": "stream",
          "text": [
            "0\n",
            "Epoch 1/20\n",
            "7/7 [==============================] - 11s 757ms/step - loss: 1.5519 - accuracy: 0.1981 - val_loss: 1.4093 - val_accuracy: 0.2973\n",
            "Epoch 2/20\n",
            "7/7 [==============================] - 3s 387ms/step - loss: 1.3871 - accuracy: 0.3280 - val_loss: 1.3779 - val_accuracy: 0.2703\n",
            "Epoch 3/20\n",
            "7/7 [==============================] - 3s 380ms/step - loss: 1.3318 - accuracy: 0.3373 - val_loss: 1.3541 - val_accuracy: 0.4054\n",
            "Epoch 4/20\n",
            "7/7 [==============================] - 3s 374ms/step - loss: 1.3212 - accuracy: 0.3683 - val_loss: 1.3670 - val_accuracy: 0.2973\n",
            "Epoch 5/20\n",
            "7/7 [==============================] - 3s 378ms/step - loss: 1.2949 - accuracy: 0.3758 - val_loss: 1.3772 - val_accuracy: 0.3243\n",
            "Epoch 6/20\n",
            "7/7 [==============================] - 3s 447ms/step - loss: 1.3104 - accuracy: 0.3555 - val_loss: 1.3741 - val_accuracy: 0.3514\n",
            "Epoch 7/20\n",
            "7/7 [==============================] - 3s 405ms/step - loss: 1.2939 - accuracy: 0.4107 - val_loss: 1.3977 - val_accuracy: 0.2703\n",
            "Epoch 8/20\n",
            "7/7 [==============================] - 2s 357ms/step - loss: 1.2909 - accuracy: 0.3588 - val_loss: 1.3838 - val_accuracy: 0.3784\n",
            "Epoch 9/20\n",
            "7/7 [==============================] - 3s 385ms/step - loss: 1.2542 - accuracy: 0.4116 - val_loss: 1.3798 - val_accuracy: 0.3243\n",
            "Epoch 10/20\n",
            "7/7 [==============================] - 3s 416ms/step - loss: 1.2834 - accuracy: 0.4001 - val_loss: 1.3892 - val_accuracy: 0.2703\n",
            "Epoch 11/20\n",
            "7/7 [==============================] - 3s 421ms/step - loss: 1.2906 - accuracy: 0.3652 - val_loss: 1.3772 - val_accuracy: 0.3514\n",
            "Epoch 12/20\n",
            "7/7 [==============================] - 2s 360ms/step - loss: 1.3024 - accuracy: 0.3418 - val_loss: 1.3848 - val_accuracy: 0.3243\n",
            "Epoch 13/20\n",
            "7/7 [==============================] - 3s 401ms/step - loss: 1.3057 - accuracy: 0.3893 - val_loss: 1.4069 - val_accuracy: 0.2973\n",
            "Epoch 14/20\n",
            "7/7 [==============================] - 3s 393ms/step - loss: 1.3525 - accuracy: 0.3438 - val_loss: 1.3684 - val_accuracy: 0.3243\n",
            "Epoch 15/20\n",
            "7/7 [==============================] - 2s 344ms/step - loss: 1.3044 - accuracy: 0.4202 - val_loss: 1.3967 - val_accuracy: 0.3784\n",
            "Epoch 16/20\n",
            "7/7 [==============================] - 3s 389ms/step - loss: 1.3116 - accuracy: 0.4312 - val_loss: 1.3849 - val_accuracy: 0.3514\n",
            "Epoch 17/20\n",
            "7/7 [==============================] - 3s 380ms/step - loss: 1.3257 - accuracy: 0.3120 - val_loss: 1.3805 - val_accuracy: 0.3243\n",
            "Epoch 18/20\n",
            "7/7 [==============================] - 3s 435ms/step - loss: 1.2890 - accuracy: 0.3210 - val_loss: 1.4058 - val_accuracy: 0.2703\n",
            "Epoch 19/20\n",
            "7/7 [==============================] - 3s 384ms/step - loss: 1.2359 - accuracy: 0.4581 - val_loss: 1.3992 - val_accuracy: 0.3243\n",
            "Epoch 20/20\n",
            "7/7 [==============================] - 2s 367ms/step - loss: 1.2465 - accuracy: 0.4442 - val_loss: 1.3792 - val_accuracy: 0.4054\n",
            "2/2 [==============================] - 1s 299ms/step - loss: 1.3792 - accuracy: 0.4054\n"
          ],
          "name": "stdout"
        }
      ]
    },
    {
      "cell_type": "code",
      "metadata": {
        "colab": {
          "base_uri": "https://localhost:8080/"
        },
        "id": "4SNLO6B0HoI_",
        "outputId": "1629765d-e2ae-4f22-f6f0-5ba62aadde4e"
      },
      "source": [
        "print(X_test.shape)\r\n",
        "model.predict(X_test[0:2])\r\n",
        "#t = model.evaluate(X_test, y_test)[1]\r\n",
        "#t\r\n",
        "# history.history[\"accuracy\"][-1]"
      ],
      "execution_count": 21,
      "outputs": [
        {
          "output_type": "stream",
          "text": [
            "(37, 11344, 1)\n"
          ],
          "name": "stdout"
        },
        {
          "output_type": "execute_result",
          "data": {
            "text/plain": [
              "array([[0.16884552, 0.31558228, 0.47503775, 0.04053449],\n",
              "       [0.17802121, 0.24426134, 0.30018187, 0.2775356 ]], dtype=float32)"
            ]
          },
          "metadata": {
            "tags": []
          },
          "execution_count": 21
        }
      ]
    },
    {
      "cell_type": "code",
      "metadata": {
        "colab": {
          "base_uri": "https://localhost:8080/",
          "height": 466
        },
        "id": "vTUp1kddBdFH",
        "outputId": "9873f904-ee1a-40af-d36c-1049fafa66cf"
      },
      "source": [
        "# plot our model\r\n",
        "from keras.utils import plot_model\r\n",
        "plot_model(model)"
      ],
      "execution_count": null,
      "outputs": [
        {
          "output_type": "execute_result",
          "data": {
            "image/png": "[encoded data removed]",
            "text/plain": [
              "<IPython.core.display.Image object>"
            ]
          },
          "metadata": {
            "tags": []
          },
          "execution_count": 69
        }
      ]
    },
    {
      "cell_type": "code",
      "metadata": {
        "id": "xEu7NOVBXvrK"
      },
      "source": [
        "# Run this to predict sentiment from phrases\r\n",
        "def predict_sentiment(phrases):\r\n",
        "  output, ind2voc, voc2ind = character_encode(phrases)\r\n",
        "\r\n",
        "  padded_seqs = np.full((len(output), max_seq_len, 1), fill_value = pad_value)\r\n",
        "  for s, x in enumerate(output):\r\n",
        "    seq_len = x.shape[0]\r\n",
        "    padded_seqs[s, 0:seq_len, :] = np.expand_dims(x, axis=1)\r\n",
        "  prediction = model.predict(padded_seqs)\r\n",
        "  curClass = np.argmax(prediction, axis = 1)\r\n",
        "  for c in curClass:\r\n",
        "    if c == 0:\r\n",
        "      print(\"Extremely unhappy/discontent\")\r\n",
        "    elif c==1:\r\n",
        "      print(\"Somewhat unhappy/discontent\")\r\n",
        "    elif c==2:\r\n",
        "      print(\"Somewhat happy/content\")\r\n",
        "    elif c==3:\r\n",
        "      print(\"Extremely happy/content\")"
      ],
      "execution_count": 50,
      "outputs": []
    },
    {
      "cell_type": "code",
      "metadata": {
        "colab": {
          "base_uri": "https://localhost:8080/"
        },
        "id": "yuJ0zZISYRQO",
        "outputId": "dd9c32eb-391b-4949-a7dd-0b252f004c77"
      },
      "source": [
        "# Enter phrases as strings in a list and run this cell\r\n",
        "phrases = [\"\"]\r\n",
        "predict_sentiment(phrases)"
      ],
      "execution_count": 136,
      "outputs": [
        {
          "output_type": "stream",
          "text": [
            "Somewhat unhappy/discontent\n"
          ],
          "name": "stdout"
        }
      ]
    },
    {
      "cell_type": "code",
      "metadata": {
        "colab": {
          "base_uri": "https://localhost:8080/",
          "height": 295
        },
        "id": "5RXY8eSLqC5i",
        "outputId": "b6c18013-f52a-45e5-8b7b-f8e7af1572ad"
      },
      "source": [
        "import matplotlib.pyplot as plt\r\n",
        "import numpy as np\r\n",
        "\r\n",
        "xChar = [10, 25, 50, 100, 200]\r\n",
        "baseChar = [0.34, 0.36, 0.425, 0.39, 0.38]\r\n",
        "biChar = [0.375, 0.425, 0.375, 0.425, 0.33]\r\n",
        "bar_width = 0.35\r\n",
        "fig, ax = plt.subplots()\r\n",
        "ax.bar(np.arange(len(xChar)), baseChar, bar_width, alpha = 0.9)\r\n",
        "ax.bar(np.arange(len(xChar))+bar_width, biChar, bar_width, alpha = 0.9)\r\n",
        "plt.title(\"Best Average Test Accuracy with LSTM Networks (Character)\")\r\n",
        "plt.ylabel(\"Best Average Classification Accuracy (proportion)\")\r\n",
        "plt.xlabel(\"Number of LSTM Nodes\")\r\n",
        "ax.set_xticks(np.arange(len(xChar))+ bar_width / 2)\r\n",
        "ax.set_xticklabels(xChar)\r\n",
        "lgd = plt.legend([\"Base\", \"Bidirectional\"], title=\"LSTM Type\", bbox_to_anchor=(1.04,0.5), loc=\"center left\")\r\n",
        "\r\n",
        "\r\n",
        "# from google.colab import files\r\n",
        "# filename = \"best_char.png\"\r\n",
        "# plt.savefig(filename,bbox_extra_artists=(lgd,), bbox_inches='tight', dpi = 1000)\r\n",
        "# files.download(filename)"
      ],
      "execution_count": 36,
      "outputs": [
        {
          "output_type": "display_data",
          "data": {
            "application/javascript": [
              "\n",
              "    async function download(id, filename, size) {\n",
              "      if (!google.colab.kernel.accessAllowed) {\n",
              "        return;\n",
              "      }\n",
              "      const div = document.createElement('div');\n",
              "      const label = document.createElement('label');\n",
              "      label.textContent = `Downloading \"${filename}\": `;\n",
              "      div.appendChild(label);\n",
              "      const progress = document.createElement('progress');\n",
              "      progress.max = size;\n",
              "      div.appendChild(progress);\n",
              "      document.body.appendChild(div);\n",
              "\n",
              "      const buffers = [];\n",
              "      let downloaded = 0;\n",
              "\n",
              "      const channel = await google.colab.kernel.comms.open(id);\n",
              "      // Send a message to notify the kernel that we're ready.\n",
              "      channel.send({})\n",
              "\n",
              "      for await (const message of channel.messages) {\n",
              "        // Send a message to notify the kernel that we're ready.\n",
              "        channel.send({})\n",
              "        if (message.buffers) {\n",
              "          for (const buffer of message.buffers) {\n",
              "            buffers.push(buffer);\n",
              "            downloaded += buffer.byteLength;\n",
              "            progress.value = downloaded;\n",
              "          }\n",
              "        }\n",
              "      }\n",
              "      const blob = new Blob(buffers, {type: 'application/binary'});\n",
              "      const a = document.createElement('a');\n",
              "      a.href = window.URL.createObjectURL(blob);\n",
              "      a.download = filename;\n",
              "      div.appendChild(a);\n",
              "      a.click();\n",
              "      div.remove();\n",
              "    }\n",
              "  "
            ],
            "text/plain": [
              "<IPython.core.display.Javascript object>"
            ]
          },
          "metadata": {
            "tags": []
          }
        },
        {
          "output_type": "display_data",
          "data": {
            "application/javascript": [
              "download(\"download_403d413c-fec6-43da-888b-8ea89abb1561\", \"best_char.png\", 505862)"
            ],
            "text/plain": [
              "<IPython.core.display.Javascript object>"
            ]
          },
          "metadata": {
            "tags": []
          }
        },
        {
          "output_type": "display_data",
          "data": {
            "image/png": "[encoded data removed]",
            "text/plain": [
              "<Figure size 432x288 with 1 Axes>"
            ]
          },
          "metadata": {
            "tags": [],
            "needs_background": "light"
          }
        }
      ]
    },
    {
      "cell_type": "code",
      "metadata": {
        "colab": {
          "base_uri": "https://localhost:8080/",
          "height": 295
        },
        "id": "AGkLg0dtv45k",
        "outputId": "fe009e74-08ab-48b2-9022-f9a9709d42d6"
      },
      "source": [
        "import matplotlib.pyplot as plt\r\n",
        "import numpy as np\r\n",
        "\r\n",
        "xWord = [5, 15, 25, 35, 45]\r\n",
        "baseWord = [0.37,0.37,0.34,0.39,0.38]\r\n",
        "biWord = [0.38,0.36,0.38,0.36,0.36]\r\n",
        "baseWordStacked = [0.34,0.325,0.345,0.39,0.375]\r\n",
        "biWordStacked = [0.355,0.345,0.39,0.355,0.33]\r\n",
        "bar_width = 0.15\r\n",
        "fig, ax = plt.subplots()\r\n",
        "ax.bar(np.arange(len(xWord))-2*bar_width, baseWord, bar_width, alpha = 0.9)\r\n",
        "ax.bar(np.arange(len(xWord))-bar_width, biWord, bar_width, alpha = 0.9)\r\n",
        "ax.bar(np.arange(len(xWord)), baseWordStacked, bar_width, alpha = 0.9)\r\n",
        "ax.bar(np.arange(len(xWord))+bar_width, biWordStacked, bar_width, alpha = 0.9)\r\n",
        "\r\n",
        "plt.title(\"Best Average Test Accuracy with LSTM Networks (Word)\")\r\n",
        "plt.ylabel(\"Best Average Classification Accuracy (proportion)\")\r\n",
        "plt.xlabel(\"Number of LSTM Nodes\")\r\n",
        "ax.set_xticks(np.arange(len(xWord))-bar_width/2)\r\n",
        "ax.set_xticklabels(xWord)\r\n",
        "lgd = plt.legend([\"Base\", \"Bidirectional\",\"Base Stacked\", \"Bidirectional Stacked\"], title=\"LSTM Type\", bbox_to_anchor=(1.04,0.5), loc=\"center left\")\r\n",
        "\r\n",
        "\r\n",
        "from google.colab import files\r\n",
        "filename = \"best_Word.png\"\r\n",
        "plt.savefig(filename,bbox_extra_artists=(lgd,), bbox_inches='tight', dpi = 1000)\r\n",
        "files.download(filename)"
      ],
      "execution_count": 46,
      "outputs": [
        {
          "output_type": "display_data",
          "data": {
            "application/javascript": [
              "\n",
              "    async function download(id, filename, size) {\n",
              "      if (!google.colab.kernel.accessAllowed) {\n",
              "        return;\n",
              "      }\n",
              "      const div = document.createElement('div');\n",
              "      const label = document.createElement('label');\n",
              "      label.textContent = `Downloading \"${filename}\": `;\n",
              "      div.appendChild(label);\n",
              "      const progress = document.createElement('progress');\n",
              "      progress.max = size;\n",
              "      div.appendChild(progress);\n",
              "      document.body.appendChild(div);\n",
              "\n",
              "      const buffers = [];\n",
              "      let downloaded = 0;\n",
              "\n",
              "      const channel = await google.colab.kernel.comms.open(id);\n",
              "      // Send a message to notify the kernel that we're ready.\n",
              "      channel.send({})\n",
              "\n",
              "      for await (const message of channel.messages) {\n",
              "        // Send a message to notify the kernel that we're ready.\n",
              "        channel.send({})\n",
              "        if (message.buffers) {\n",
              "          for (const buffer of message.buffers) {\n",
              "            buffers.push(buffer);\n",
              "            downloaded += buffer.byteLength;\n",
              "            progress.value = downloaded;\n",
              "          }\n",
              "        }\n",
              "      }\n",
              "      const blob = new Blob(buffers, {type: 'application/binary'});\n",
              "      const a = document.createElement('a');\n",
              "      a.href = window.URL.createObjectURL(blob);\n",
              "      a.download = filename;\n",
              "      div.appendChild(a);\n",
              "      a.click();\n",
              "      div.remove();\n",
              "    }\n",
              "  "
            ],
            "text/plain": [
              "<IPython.core.display.Javascript object>"
            ]
          },
          "metadata": {
            "tags": []
          }
        },
        {
          "output_type": "display_data",
          "data": {
            "application/javascript": [
              "download(\"download_0f4f7f30-3371-460a-936f-cc3de7223567\", \"best_Word.png\", 569634)"
            ],
            "text/plain": [
              "<IPython.core.display.Javascript object>"
            ]
          },
          "metadata": {
            "tags": []
          }
        },
        {
          "output_type": "display_data",
          "data": {
            "image/png": "[encoded data removed]",
            "text/plain": [
              "<Figure size 432x288 with 1 Axes>"
            ]
          },
          "metadata": {
            "tags": [],
            "needs_background": "light"
          }
        }
      ]
    }
  ]
}